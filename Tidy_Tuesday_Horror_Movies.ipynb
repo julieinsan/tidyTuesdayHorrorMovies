{
  "cells": [
    {
      "cell_type": "markdown",
      "metadata": {
        "colab_type": "text",
        "id": "view-in-github"
      },
      "source": [
        "<a href=\"https://colab.research.google.com/github/julieinsan/tidyTuesdayHorrorMovies/blob/main/Tidy_Tuesday_Horror_Movies.ipynb\" target=\"_parent\"><img src=\"https://colab.research.google.com/assets/colab-badge.svg\" alt=\"Open In Colab\"/></a>"
      ]
    },
    {
      "cell_type": "code",
      "execution_count": 1,
      "metadata": {
        "id": "0GWEDtMskDfq"
      },
      "outputs": [],
      "source": [
        "import pandas as pd\n",
        "dta = pd.read_csv(\"horror_movies.csv\")"
      ]
    },
    {
      "cell_type": "code",
      "execution_count": 2,
      "metadata": {
        "colab": {
          "base_uri": "https://localhost:8080/",
          "height": 693
        },
        "id": "nxIuiO8Akh_Z",
        "outputId": "fea8b8fa-1a44-403f-8d90-c07a67609ad4"
      },
      "outputs": [
        {
          "data": {
            "text/html": [
              "<div>\n",
              "<style scoped>\n",
              "    .dataframe tbody tr th:only-of-type {\n",
              "        vertical-align: middle;\n",
              "    }\n",
              "\n",
              "    .dataframe tbody tr th {\n",
              "        vertical-align: top;\n",
              "    }\n",
              "\n",
              "    .dataframe thead th {\n",
              "        text-align: right;\n",
              "    }\n",
              "</style>\n",
              "<table border=\"1\" class=\"dataframe\">\n",
              "  <thead>\n",
              "    <tr style=\"text-align: right;\">\n",
              "      <th></th>\n",
              "      <th>id</th>\n",
              "      <th>original_title</th>\n",
              "      <th>title</th>\n",
              "      <th>original_language</th>\n",
              "      <th>overview</th>\n",
              "      <th>tagline</th>\n",
              "      <th>release_date</th>\n",
              "      <th>poster_path</th>\n",
              "      <th>popularity</th>\n",
              "      <th>vote_count</th>\n",
              "      <th>vote_average</th>\n",
              "      <th>budget</th>\n",
              "      <th>revenue</th>\n",
              "      <th>runtime</th>\n",
              "      <th>status</th>\n",
              "      <th>adult</th>\n",
              "      <th>backdrop_path</th>\n",
              "      <th>genre_names</th>\n",
              "      <th>collection</th>\n",
              "      <th>collection_name</th>\n",
              "    </tr>\n",
              "  </thead>\n",
              "  <tbody>\n",
              "    <tr>\n",
              "      <th>0</th>\n",
              "      <td>760161</td>\n",
              "      <td>Orphan: First Kill</td>\n",
              "      <td>Orphan: First Kill</td>\n",
              "      <td>en</td>\n",
              "      <td>After escaping from an Estonian psychiatric fa...</td>\n",
              "      <td>There's always been something wrong with Esther.</td>\n",
              "      <td>2022-07-27</td>\n",
              "      <td>/pHkKbIRoCe7zIFvqan9LFSaQAde.jpg</td>\n",
              "      <td>5088.584</td>\n",
              "      <td>902</td>\n",
              "      <td>6.9</td>\n",
              "      <td>0</td>\n",
              "      <td>9572765</td>\n",
              "      <td>99</td>\n",
              "      <td>Released</td>\n",
              "      <td>False</td>\n",
              "      <td>/5GA3vV1aWWHTSDO5eno8V5zDo8r.jpg</td>\n",
              "      <td>Horror, Thriller</td>\n",
              "      <td>760193.0</td>\n",
              "      <td>Orphan Collection</td>\n",
              "    </tr>\n",
              "    <tr>\n",
              "      <th>1</th>\n",
              "      <td>760741</td>\n",
              "      <td>Beast</td>\n",
              "      <td>Beast</td>\n",
              "      <td>en</td>\n",
              "      <td>A recently widowed man and his two teenage dau...</td>\n",
              "      <td>Fight for family.</td>\n",
              "      <td>2022-08-11</td>\n",
              "      <td>/xIGr7UHsKf0URWmyyd5qFMAq4d8.jpg</td>\n",
              "      <td>2172.338</td>\n",
              "      <td>584</td>\n",
              "      <td>7.1</td>\n",
              "      <td>0</td>\n",
              "      <td>56000000</td>\n",
              "      <td>93</td>\n",
              "      <td>Released</td>\n",
              "      <td>False</td>\n",
              "      <td>/2k9tBql5GYH328Krj66tDT9LtFZ.jpg</td>\n",
              "      <td>Adventure, Drama, Horror</td>\n",
              "      <td>NaN</td>\n",
              "      <td>NaN</td>\n",
              "    </tr>\n",
              "    <tr>\n",
              "      <th>2</th>\n",
              "      <td>882598</td>\n",
              "      <td>Smile</td>\n",
              "      <td>Smile</td>\n",
              "      <td>en</td>\n",
              "      <td>After witnessing a bizarre, traumatic incident...</td>\n",
              "      <td>Once you see it, it’s too late.</td>\n",
              "      <td>2022-09-23</td>\n",
              "      <td>/hiaeZKzwsk4y4atFhmncO5KRxeT.jpg</td>\n",
              "      <td>1863.628</td>\n",
              "      <td>114</td>\n",
              "      <td>6.8</td>\n",
              "      <td>17000000</td>\n",
              "      <td>45000000</td>\n",
              "      <td>115</td>\n",
              "      <td>Released</td>\n",
              "      <td>False</td>\n",
              "      <td>/mVNPfpydornVe4H4UCIk7WevWjf.jpg</td>\n",
              "      <td>Horror, Mystery, Thriller</td>\n",
              "      <td>NaN</td>\n",
              "      <td>NaN</td>\n",
              "    </tr>\n",
              "    <tr>\n",
              "      <th>3</th>\n",
              "      <td>756999</td>\n",
              "      <td>The Black Phone</td>\n",
              "      <td>The Black Phone</td>\n",
              "      <td>en</td>\n",
              "      <td>Finney Blake, a shy but clever 13-year-old boy...</td>\n",
              "      <td>Never talk to strangers.</td>\n",
              "      <td>2022-06-22</td>\n",
              "      <td>/lr11mCT85T1JanlgjMuhs9nMht4.jpg</td>\n",
              "      <td>1071.398</td>\n",
              "      <td>2736</td>\n",
              "      <td>7.9</td>\n",
              "      <td>18800000</td>\n",
              "      <td>161000000</td>\n",
              "      <td>103</td>\n",
              "      <td>Released</td>\n",
              "      <td>False</td>\n",
              "      <td>/AfvIjhDu9p64jKcmohS4hsPG95Q.jpg</td>\n",
              "      <td>Horror, Thriller</td>\n",
              "      <td>NaN</td>\n",
              "      <td>NaN</td>\n",
              "    </tr>\n",
              "    <tr>\n",
              "      <th>4</th>\n",
              "      <td>772450</td>\n",
              "      <td>Presencias</td>\n",
              "      <td>Presences</td>\n",
              "      <td>es</td>\n",
              "      <td>A man who loses his wife and goes to seclude h...</td>\n",
              "      <td>NaN</td>\n",
              "      <td>2022-09-07</td>\n",
              "      <td>/dgDT3uol3mdvwEg0jt1ble3l9hw.jpg</td>\n",
              "      <td>1020.995</td>\n",
              "      <td>83</td>\n",
              "      <td>7.0</td>\n",
              "      <td>0</td>\n",
              "      <td>0</td>\n",
              "      <td>0</td>\n",
              "      <td>Released</td>\n",
              "      <td>False</td>\n",
              "      <td>/ojfzhdwRemcDt1I6pao6vVLw9AA.jpg</td>\n",
              "      <td>Horror</td>\n",
              "      <td>NaN</td>\n",
              "      <td>NaN</td>\n",
              "    </tr>\n",
              "  </tbody>\n",
              "</table>\n",
              "</div>"
            ],
            "text/plain": [
              "       id      original_title               title original_language  \\\n",
              "0  760161  Orphan: First Kill  Orphan: First Kill                en   \n",
              "1  760741               Beast               Beast                en   \n",
              "2  882598               Smile               Smile                en   \n",
              "3  756999     The Black Phone     The Black Phone                en   \n",
              "4  772450          Presencias           Presences                es   \n",
              "\n",
              "                                            overview  \\\n",
              "0  After escaping from an Estonian psychiatric fa...   \n",
              "1  A recently widowed man and his two teenage dau...   \n",
              "2  After witnessing a bizarre, traumatic incident...   \n",
              "3  Finney Blake, a shy but clever 13-year-old boy...   \n",
              "4  A man who loses his wife and goes to seclude h...   \n",
              "\n",
              "                                            tagline release_date  \\\n",
              "0  There's always been something wrong with Esther.   2022-07-27   \n",
              "1                                 Fight for family.   2022-08-11   \n",
              "2                   Once you see it, it’s too late.   2022-09-23   \n",
              "3                          Never talk to strangers.   2022-06-22   \n",
              "4                                               NaN   2022-09-07   \n",
              "\n",
              "                        poster_path  popularity  vote_count  vote_average  \\\n",
              "0  /pHkKbIRoCe7zIFvqan9LFSaQAde.jpg    5088.584         902           6.9   \n",
              "1  /xIGr7UHsKf0URWmyyd5qFMAq4d8.jpg    2172.338         584           7.1   \n",
              "2  /hiaeZKzwsk4y4atFhmncO5KRxeT.jpg    1863.628         114           6.8   \n",
              "3  /lr11mCT85T1JanlgjMuhs9nMht4.jpg    1071.398        2736           7.9   \n",
              "4  /dgDT3uol3mdvwEg0jt1ble3l9hw.jpg    1020.995          83           7.0   \n",
              "\n",
              "     budget    revenue  runtime    status  adult  \\\n",
              "0         0    9572765       99  Released  False   \n",
              "1         0   56000000       93  Released  False   \n",
              "2  17000000   45000000      115  Released  False   \n",
              "3  18800000  161000000      103  Released  False   \n",
              "4         0          0        0  Released  False   \n",
              "\n",
              "                      backdrop_path                genre_names  collection  \\\n",
              "0  /5GA3vV1aWWHTSDO5eno8V5zDo8r.jpg           Horror, Thriller    760193.0   \n",
              "1  /2k9tBql5GYH328Krj66tDT9LtFZ.jpg   Adventure, Drama, Horror         NaN   \n",
              "2  /mVNPfpydornVe4H4UCIk7WevWjf.jpg  Horror, Mystery, Thriller         NaN   \n",
              "3  /AfvIjhDu9p64jKcmohS4hsPG95Q.jpg           Horror, Thriller         NaN   \n",
              "4  /ojfzhdwRemcDt1I6pao6vVLw9AA.jpg                     Horror         NaN   \n",
              "\n",
              "     collection_name  \n",
              "0  Orphan Collection  \n",
              "1                NaN  \n",
              "2                NaN  \n",
              "3                NaN  \n",
              "4                NaN  "
            ]
          },
          "execution_count": 2,
          "metadata": {},
          "output_type": "execute_result"
        }
      ],
      "source": [
        "import seaborn as sns\n",
        "dta.head()"
      ]
    },
    {
      "cell_type": "code",
      "execution_count": 36,
      "metadata": {
        "colab": {
          "base_uri": "https://localhost:8080/",
          "height": 394
        },
        "id": "nES4l6jpwMUq",
        "outputId": "8ee3eb7c-e558-48cb-8e28-972d4cf3c7d7"
      },
      "outputs": [
        {
          "data": {
            "image/png": "[encoded data removed]",
            "text/plain": [
              "<Figure size 1600x600 with 1 Axes>"
            ]
          },
          "metadata": {},
          "output_type": "display_data"
        }
      ],
      "source": [
        "def wideCount(thecolumn, rot=0):\n",
        "  sns.set(rc={\"figure.figsize\":(16,6)})\n",
        "  sns.set_theme(style=\"white\")\n",
        "  g = sns.countplot(x=thecolumn)\n",
        "  g.set_xticklabels(g.get_xticklabels(), rotation=rot)\n",
        "wideCount(dta.status)"
      ]
    },
    {
      "cell_type": "code",
      "execution_count": 4,
      "metadata": {
        "id": "T3yY9VK0wV8j"
      },
      "outputs": [],
      "source": [
        "dta['genre_names'] = dta.genre_names.str.upper()\n",
        "dta['genre_names_list'] =[i.split(\", \") for i in dta.genre_names]"
      ]
    },
    {
      "cell_type": "code",
      "execution_count": 5,
      "metadata": {},
      "outputs": [],
      "source": [
        "dta2 = dta[['original_title', 'title', 'original_language', 'overview', 'tagline', 'release_date', 'popularity', 'vote_count', \\\n",
        "            'vote_average', 'budget', 'revenue', 'runtime', 'genre_names_list']]"
      ]
    },
    {
      "cell_type": "code",
      "execution_count": 6,
      "metadata": {},
      "outputs": [
        {
          "ename": "ValueError",
          "evalue": "list.remove(x): x not in list",
          "output_type": "error",
          "traceback": [
            "\u001b[0;31m---------------------------------------------------------------------------\u001b[0m",
            "\u001b[0;31mValueError\u001b[0m                                Traceback (most recent call last)",
            "Cell \u001b[0;32mIn [6], line 1\u001b[0m\n\u001b[0;32m----> 1\u001b[0m [ dta\u001b[39m.\u001b[39mgenre_names_list[i]\u001b[39m.\u001b[39mremove(\u001b[39m'\u001b[39m\u001b[39mHORROR\u001b[39m\u001b[39m'\u001b[39m) \u001b[39mfor\u001b[39;00m i \u001b[39min\u001b[39;00m \u001b[39mrange\u001b[39m(\u001b[39m1\u001b[39m,dta\u001b[39m.\u001b[39mshape[\u001b[39m0\u001b[39m])]\n",
            "Cell \u001b[0;32mIn [6], line 1\u001b[0m, in \u001b[0;36m<listcomp>\u001b[0;34m(.0)\u001b[0m\n\u001b[0;32m----> 1\u001b[0m [ dta\u001b[39m.\u001b[39;49mgenre_names_list[i]\u001b[39m.\u001b[39;49mremove(\u001b[39m'\u001b[39;49m\u001b[39mHORROR\u001b[39;49m\u001b[39m'\u001b[39;49m) \u001b[39mfor\u001b[39;00m i \u001b[39min\u001b[39;00m \u001b[39mrange\u001b[39m(\u001b[39m1\u001b[39m,dta\u001b[39m.\u001b[39mshape[\u001b[39m0\u001b[39m])]\n",
            "\u001b[0;31mValueError\u001b[0m: list.remove(x): x not in list"
          ]
        }
      ],
      "source": [
        "[ dta.genre_names_list[i].remove('HORROR') for i in range(1,dta.shape[0])]"
      ]
    },
    {
      "cell_type": "code",
      "execution_count": 9,
      "metadata": {},
      "outputs": [
        {
          "data": {
            "text/plain": [
              "True"
            ]
          },
          "execution_count": 9,
          "metadata": {},
          "output_type": "execute_result"
        }
      ],
      "source": [
        "'HORROR' in dta2.genre_names_list[0]"
      ]
    },
    {
      "cell_type": "code",
      "execution_count": 11,
      "metadata": {},
      "outputs": [
        {
          "name": "stdout",
          "output_type": "stream",
          "text": [
            "['ADVENTURE', 'DRAMA']\n"
          ]
        },
        {
          "data": {
            "text/plain": [
              "False"
            ]
          },
          "execution_count": 11,
          "metadata": {},
          "output_type": "execute_result"
        }
      ],
      "source": [
        "print(dta2.genre_names_list[1])\n",
        "'HORROR' in dta2.genre_names_list[1]"
      ]
    },
    {
      "cell_type": "code",
      "execution_count": 15,
      "metadata": {},
      "outputs": [],
      "source": [
        "for i in range(dta2.shape[0]):\n",
        "    if 'HORROR' in dta2.genre_names_list[i]:\n",
        "         dta2.genre_names_list[i].remove('HORROR')"
      ]
    },
    {
      "cell_type": "code",
      "execution_count": 16,
      "metadata": {},
      "outputs": [
        {
          "data": {
            "text/html": [
              "<div>\n",
              "<style scoped>\n",
              "    .dataframe tbody tr th:only-of-type {\n",
              "        vertical-align: middle;\n",
              "    }\n",
              "\n",
              "    .dataframe tbody tr th {\n",
              "        vertical-align: top;\n",
              "    }\n",
              "\n",
              "    .dataframe thead th {\n",
              "        text-align: right;\n",
              "    }\n",
              "</style>\n",
              "<table border=\"1\" class=\"dataframe\">\n",
              "  <thead>\n",
              "    <tr style=\"text-align: right;\">\n",
              "      <th></th>\n",
              "      <th>original_title</th>\n",
              "      <th>title</th>\n",
              "      <th>original_language</th>\n",
              "      <th>overview</th>\n",
              "      <th>tagline</th>\n",
              "      <th>release_date</th>\n",
              "      <th>popularity</th>\n",
              "      <th>vote_count</th>\n",
              "      <th>vote_average</th>\n",
              "      <th>budget</th>\n",
              "      <th>revenue</th>\n",
              "      <th>runtime</th>\n",
              "      <th>genre_names_list</th>\n",
              "    </tr>\n",
              "  </thead>\n",
              "  <tbody>\n",
              "    <tr>\n",
              "      <th>0</th>\n",
              "      <td>Orphan: First Kill</td>\n",
              "      <td>Orphan: First Kill</td>\n",
              "      <td>en</td>\n",
              "      <td>After escaping from an Estonian psychiatric fa...</td>\n",
              "      <td>There's always been something wrong with Esther.</td>\n",
              "      <td>2022-07-27</td>\n",
              "      <td>5088.584</td>\n",
              "      <td>902</td>\n",
              "      <td>6.9</td>\n",
              "      <td>0</td>\n",
              "      <td>9572765</td>\n",
              "      <td>99</td>\n",
              "      <td>[THRILLER]</td>\n",
              "    </tr>\n",
              "    <tr>\n",
              "      <th>1</th>\n",
              "      <td>Beast</td>\n",
              "      <td>Beast</td>\n",
              "      <td>en</td>\n",
              "      <td>A recently widowed man and his two teenage dau...</td>\n",
              "      <td>Fight for family.</td>\n",
              "      <td>2022-08-11</td>\n",
              "      <td>2172.338</td>\n",
              "      <td>584</td>\n",
              "      <td>7.1</td>\n",
              "      <td>0</td>\n",
              "      <td>56000000</td>\n",
              "      <td>93</td>\n",
              "      <td>[ADVENTURE, DRAMA]</td>\n",
              "    </tr>\n",
              "    <tr>\n",
              "      <th>2</th>\n",
              "      <td>Smile</td>\n",
              "      <td>Smile</td>\n",
              "      <td>en</td>\n",
              "      <td>After witnessing a bizarre, traumatic incident...</td>\n",
              "      <td>Once you see it, it’s too late.</td>\n",
              "      <td>2022-09-23</td>\n",
              "      <td>1863.628</td>\n",
              "      <td>114</td>\n",
              "      <td>6.8</td>\n",
              "      <td>17000000</td>\n",
              "      <td>45000000</td>\n",
              "      <td>115</td>\n",
              "      <td>[MYSTERY, THRILLER]</td>\n",
              "    </tr>\n",
              "    <tr>\n",
              "      <th>3</th>\n",
              "      <td>The Black Phone</td>\n",
              "      <td>The Black Phone</td>\n",
              "      <td>en</td>\n",
              "      <td>Finney Blake, a shy but clever 13-year-old boy...</td>\n",
              "      <td>Never talk to strangers.</td>\n",
              "      <td>2022-06-22</td>\n",
              "      <td>1071.398</td>\n",
              "      <td>2736</td>\n",
              "      <td>7.9</td>\n",
              "      <td>18800000</td>\n",
              "      <td>161000000</td>\n",
              "      <td>103</td>\n",
              "      <td>[THRILLER]</td>\n",
              "    </tr>\n",
              "    <tr>\n",
              "      <th>4</th>\n",
              "      <td>Presencias</td>\n",
              "      <td>Presences</td>\n",
              "      <td>es</td>\n",
              "      <td>A man who loses his wife and goes to seclude h...</td>\n",
              "      <td>NaN</td>\n",
              "      <td>2022-09-07</td>\n",
              "      <td>1020.995</td>\n",
              "      <td>83</td>\n",
              "      <td>7.0</td>\n",
              "      <td>0</td>\n",
              "      <td>0</td>\n",
              "      <td>0</td>\n",
              "      <td>[]</td>\n",
              "    </tr>\n",
              "  </tbody>\n",
              "</table>\n",
              "</div>"
            ],
            "text/plain": [
              "       original_title               title original_language  \\\n",
              "0  Orphan: First Kill  Orphan: First Kill                en   \n",
              "1               Beast               Beast                en   \n",
              "2               Smile               Smile                en   \n",
              "3     The Black Phone     The Black Phone                en   \n",
              "4          Presencias           Presences                es   \n",
              "\n",
              "                                            overview  \\\n",
              "0  After escaping from an Estonian psychiatric fa...   \n",
              "1  A recently widowed man and his two teenage dau...   \n",
              "2  After witnessing a bizarre, traumatic incident...   \n",
              "3  Finney Blake, a shy but clever 13-year-old boy...   \n",
              "4  A man who loses his wife and goes to seclude h...   \n",
              "\n",
              "                                            tagline release_date  popularity  \\\n",
              "0  There's always been something wrong with Esther.   2022-07-27    5088.584   \n",
              "1                                 Fight for family.   2022-08-11    2172.338   \n",
              "2                   Once you see it, it’s too late.   2022-09-23    1863.628   \n",
              "3                          Never talk to strangers.   2022-06-22    1071.398   \n",
              "4                                               NaN   2022-09-07    1020.995   \n",
              "\n",
              "   vote_count  vote_average    budget    revenue  runtime     genre_names_list  \n",
              "0         902           6.9         0    9572765       99           [THRILLER]  \n",
              "1         584           7.1         0   56000000       93   [ADVENTURE, DRAMA]  \n",
              "2         114           6.8  17000000   45000000      115  [MYSTERY, THRILLER]  \n",
              "3        2736           7.9  18800000  161000000      103           [THRILLER]  \n",
              "4          83           7.0         0          0        0                   []  "
            ]
          },
          "execution_count": 16,
          "metadata": {},
          "output_type": "execute_result"
        }
      ],
      "source": [
        "dta2.head()"
      ]
    },
    {
      "cell_type": "code",
      "execution_count": 22,
      "metadata": {},
      "outputs": [],
      "source": [
        "for i in range(dta2.shape[0]):\n",
        "    if not len(dta2.genre_names_list[i]):\n",
        "        dta2.genre_names_list[i].append('HORROR')"
      ]
    },
    {
      "cell_type": "code",
      "execution_count": 31,
      "metadata": {},
      "outputs": [],
      "source": [
        "dtaWide = pd.get_dummies(dta2.explode('genre_names_list'), prefix=\"\", prefix_sep='', columns=['genre_names_list'])"
      ]
    },
    {
      "cell_type": "code",
      "execution_count": 32,
      "metadata": {},
      "outputs": [
        {
          "data": {
            "text/plain": [
              "Index(['original_title', 'title', 'original_language', 'overview', 'tagline',\n",
              "       'release_date', 'popularity', 'vote_count', 'vote_average', 'budget',\n",
              "       'revenue', 'runtime', 'ACTION', 'ADVENTURE', 'ANIMATION', 'COMEDY',\n",
              "       'CRIME', 'DOCUMENTARY', 'DRAMA', 'FAMILY', 'FANTASY', 'HISTORY',\n",
              "       'HORROR', 'MUSIC', 'MYSTERY', 'ROMANCE', 'SCIENCE FICTION', 'THRILLER',\n",
              "       'TV MOVIE', 'WAR', 'WESTERN'],\n",
              "      dtype='object')"
            ]
          },
          "execution_count": 32,
          "metadata": {},
          "output_type": "execute_result"
        }
      ],
      "source": [
        "dtaWide.columns"
      ]
    },
    {
      "cell_type": "code",
      "execution_count": 33,
      "metadata": {},
      "outputs": [],
      "source": [
        "dtaLong = dta2.explode('genre_names_list')"
      ]
    },
    {
      "cell_type": "code",
      "execution_count": 37,
      "metadata": {},
      "outputs": [
        {
          "data": {
            "image/png": "[encoded data removed]",
            "text/plain": [
              "<Figure size 1600x600 with 1 Axes>"
            ]
          },
          "metadata": {},
          "output_type": "display_data"
        }
      ],
      "source": [
        "wideCount(dtaLong.genre_names_list, rot=45)"
      ]
    },
    {
      "cell_type": "markdown",
      "metadata": {},
      "source": [
        "---\n",
        "OK, so, we can do a few things here:\n",
        "\n",
        "* We can use release date, and look for language trends over time...\n",
        "\n",
        "* We can see if we can predict subgenres based on the title/tagline/overview\n",
        "\n",
        "* We can see if higher budgets lead to higher ratings, or do certain sub-genres of horror make more money"
      ]
    }
  ],
  "metadata": {
    "colab": {
      "authorship_tag": "ABX9TyML2rzN1cg5rdTMlXllz035",
      "include_colab_link": true,
      "mount_file_id": "1VMtXUGWRHsqACx67qDp84Tcili3TzjaT",
      "provenance": []
    },
    "kernelspec": {
      "display_name": "Python 3.10.4 64-bit",
      "language": "python",
      "name": "python3"
    },
    "language_info": {
      "codemirror_mode": {
        "name": "ipython",
        "version": 3
      },
      "file_extension": ".py",
      "mimetype": "text/x-python",
      "name": "python",
      "nbconvert_exporter": "python",
      "pygments_lexer": "ipython3",
      "version": "3.10.4"
    },
    "vscode": {
      "interpreter": {
        "hash": "3ad933181bd8a04b432d3370b9dc3b0662ad032c4dfaa4e4f1596c548f763858"
      }
    }
  },
  "nbformat": 4,
  "nbformat_minor": 0
}
